{
  "nbformat": 4,
  "nbformat_minor": 0,
  "metadata": {
    "colab": {
      "provenance": [],
      "authorship_tag": "ABX9TyPx6MeWGqj60BXt4En/oSQS",
      "include_colab_link": true
    },
    "kernelspec": {
      "name": "python3",
      "display_name": "Python 3"
    },
    "language_info": {
      "name": "python"
    }
  },
  "cells": [
    {
      "cell_type": "markdown",
      "metadata": {
        "id": "view-in-github",
        "colab_type": "text"
      },
      "source": [
        "<a href=\"https://colab.research.google.com/github/kamali1331/chstbot-using-gemini-pro/blob/main/Chatbot_using_gemini_pro.ipynb\" target=\"_parent\"><img src=\"https://colab.research.google.com/assets/colab-badge.svg\" alt=\"Open In Colab\"/></a>"
      ]
    },
    {
      "cell_type": "code",
      "source": [
        "!pip install python-dotenv\n",
        "!pip install streamlit as st\n",
        "!pip install google-generativeai as gen_ai\n"
      ],
      "metadata": {
        "colab": {
          "base_uri": "https://localhost:8080/"
        },
        "id": "7DRwcgKiofxX",
        "outputId": "5875658b-c65c-4f42-b7c1-cd6f2305807d"
      },
      "execution_count": 7,
      "outputs": [
        {
          "output_type": "stream",
          "name": "stdout",
          "text": [
            "Requirement already satisfied: python-dotenv in /usr/local/lib/python3.11/dist-packages (1.1.1)\n",
            "Requirement already satisfied: streamlit in /usr/local/lib/python3.11/dist-packages (1.46.0)\n",
            "\u001b[31mERROR: Could not find a version that satisfies the requirement as (from versions: none)\u001b[0m\u001b[31m\n",
            "\u001b[0m\u001b[31mERROR: No matching distribution found for as\u001b[0m\u001b[31m\n",
            "\u001b[0mRequirement already satisfied: google-generativeai in /usr/local/lib/python3.11/dist-packages (0.8.5)\n",
            "\u001b[31mERROR: Could not find a version that satisfies the requirement as (from versions: none)\u001b[0m\u001b[31m\n",
            "\u001b[0m\u001b[31mERROR: No matching distribution found for as\u001b[0m\u001b[31m\n",
            "\u001b[0m"
          ]
        }
      ]
    },
    {
      "cell_type": "code",
      "source": [
        "!pip install python-dotenv"
      ],
      "metadata": {
        "colab": {
          "base_uri": "https://localhost:8080/"
        },
        "id": "AuI96M5xplGO",
        "outputId": "47ac604b-0861-40b0-f78c-eebc721dca96"
      },
      "execution_count": 9,
      "outputs": [
        {
          "output_type": "stream",
          "name": "stdout",
          "text": [
            "Requirement already satisfied: python-dotenv in /usr/local/lib/python3.11/dist-packages (1.1.1)\n"
          ]
        }
      ]
    },
    {
      "cell_type": "code",
      "source": [
        "import os\n",
        "\n",
        "import streamlit as st\n",
        "from dotenv import load_dotenv\n",
        "import google.generativeai as gen_ai"
      ],
      "metadata": {
        "id": "dxPy2msmpuLA"
      },
      "execution_count": 10,
      "outputs": []
    },
    {
      "cell_type": "code",
      "source": [
        "\n",
        "# Load environment variables\n",
        "load_dotenv()\n",
        "\n",
        "# Configure Streamlit page settings\n",
        "st.set_page_config(\n",
        "    page_title=\"Chat with Gemini-Pro!\",\n",
        "    page_icon=\":brain:\",  # Favicon emoji\n",
        "    layout=\"centered\",  # Page layout option\n",
        ")\n",
        "\n",
        "GOOGLE_API_KEY = os.getenv(\"GOOGLE_API_KEY\")\n",
        "\n",
        "# Set up Google Gemini-Pro AI model\n",
        "gen_ai.configure(api_key=GOOGLE_API_KEY)\n",
        "model = gen_ai.GenerativeModel('gemini-pro')\n",
        "\n",
        "\n",
        "# Function to translate roles between Gemini-Pro and Streamlit terminology\n",
        "def translate_role_for_streamlit(user_role):\n",
        "    if user_role == \"model\":\n",
        "        return \"assistant\"\n",
        "    else:\n",
        "        return user_role\n",
        "# Initialize chat session in Streamlit if not already present\n",
        "if \"chat_session\" not in st.session_state:\n",
        "    st.session_state.chat_session = model.start_chat(history=[])\n",
        "\n",
        "\n",
        "# Display the chatbot's title on the page\n",
        "st.title(\"🤖 Gemini Pro - ChatBot\")\n",
        "\n",
        "# Display the chat history\n",
        "for message in st.session_state.chat_session.history:\n",
        "    with st.chat_message(translate_role_for_streamlit(message.role)):\n",
        "        st.markdown(message.parts[0].text)\n",
        "\n",
        "# Input field for user's message\n",
        "user_prompt = st.chat_input(\"Ask Gemini-Pro...\")\n",
        "if user_prompt:\n",
        "    # Add user's message to chat and display it\n",
        "    st.chat_message(\"user\").markdown(user_prompt)\n",
        "\n",
        "    # Send user's message to Gemini-Pro and get the response\n",
        "    gemini_response = st.session_state.chat_session.send_message(user_prompt)\n",
        "\n",
        "    # Display Gemini-Pro's response\n",
        "    with st.chat_message(\"assistant\"):\n",
        "        st.markdown(gemini_response.text)\n"
      ],
      "metadata": {
        "colab": {
          "base_uri": "https://localhost:8080/"
        },
        "id": "SzYicr7PqIsl",
        "outputId": "06116d1d-9738-4b94-ff4e-c7255d870fd0"
      },
      "execution_count": 11,
      "outputs": [
        {
          "output_type": "stream",
          "name": "stderr",
          "text": [
            "2025-06-24 06:40:04.180 WARNING streamlit.runtime.scriptrunner_utils.script_run_context: Thread 'MainThread': missing ScriptRunContext! This warning can be ignored when running in bare mode.\n",
            "2025-06-24 06:40:04.182 WARNING streamlit.runtime.scriptrunner_utils.script_run_context: Thread 'MainThread': missing ScriptRunContext! This warning can be ignored when running in bare mode.\n",
            "2025-06-24 06:40:04.184 WARNING streamlit.runtime.state.session_state_proxy: Session state does not function when running a script without `streamlit run`\n",
            "2025-06-24 06:40:04.186 WARNING streamlit.runtime.scriptrunner_utils.script_run_context: Thread 'MainThread': missing ScriptRunContext! This warning can be ignored when running in bare mode.\n",
            "2025-06-24 06:40:04.187 WARNING streamlit.runtime.scriptrunner_utils.script_run_context: Thread 'MainThread': missing ScriptRunContext! This warning can be ignored when running in bare mode.\n",
            "2025-06-24 06:40:04.188 WARNING streamlit.runtime.scriptrunner_utils.script_run_context: Thread 'MainThread': missing ScriptRunContext! This warning can be ignored when running in bare mode.\n",
            "2025-06-24 06:40:04.296 \n",
            "  \u001b[33m\u001b[1mWarning:\u001b[0m to view this Streamlit app on a browser, run it with the following\n",
            "  command:\n",
            "\n",
            "    streamlit run /usr/local/lib/python3.11/dist-packages/colab_kernel_launcher.py [ARGUMENTS]\n",
            "2025-06-24 06:40:04.297 Thread 'MainThread': missing ScriptRunContext! This warning can be ignored when running in bare mode.\n",
            "2025-06-24 06:40:04.299 Thread 'MainThread': missing ScriptRunContext! This warning can be ignored when running in bare mode.\n",
            "2025-06-24 06:40:04.300 Thread 'MainThread': missing ScriptRunContext! This warning can be ignored when running in bare mode.\n",
            "2025-06-24 06:40:04.302 Thread 'MainThread': missing ScriptRunContext! This warning can be ignored when running in bare mode.\n",
            "2025-06-24 06:40:04.303 Thread 'MainThread': missing ScriptRunContext! This warning can be ignored when running in bare mode.\n",
            "2025-06-24 06:40:04.304 Thread 'MainThread': missing ScriptRunContext! This warning can be ignored when running in bare mode.\n",
            "2025-06-24 06:40:04.306 Thread 'MainThread': missing ScriptRunContext! This warning can be ignored when running in bare mode.\n",
            "2025-06-24 06:40:04.307 Thread 'MainThread': missing ScriptRunContext! This warning can be ignored when running in bare mode.\n",
            "2025-06-24 06:40:04.308 Thread 'MainThread': missing ScriptRunContext! This warning can be ignored when running in bare mode.\n"
          ]
        }
      ]
    }
  ]
}